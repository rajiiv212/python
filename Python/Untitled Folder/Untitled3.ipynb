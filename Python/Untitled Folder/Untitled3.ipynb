{
 "cells": [
  {
   "cell_type": "code",
   "execution_count": 1,
   "id": "419fbb66",
   "metadata": {},
   "outputs": [],
   "source": [
    "def generateMP3():\n",
    "\n",
    "    mp3FileName = 'smooth-ac-guitar-loop-93bpm-137706.mp3'\n"
   ]
  },
  {
   "cell_type": "code",
   "execution_count": 2,
   "id": "13e69b04",
   "metadata": {},
   "outputs": [
    {
     "ename": "IndentationError",
     "evalue": "unexpected indent (1560056366.py, line 3)",
     "output_type": "error",
     "traceback": [
      "\u001b[1;36m  Cell \u001b[1;32mIn [2], line 3\u001b[1;36m\u001b[0m\n\u001b[1;33m    engine = tts.init()\u001b[0m\n\u001b[1;37m    ^\u001b[0m\n\u001b[1;31mIndentationError\u001b[0m\u001b[1;31m:\u001b[0m unexpected indent\n"
     ]
    }
   ],
   "source": [
    " import pyttsx3 as tts\n",
    "\n",
    "    engine = tts.init()\n",
    "\n",
    "    engine.save_to_file(\n",
    "        '''This is the end! Don't forget that you can download the source code... Also, don't forget to give this video a like, share it with your friends, subscribe and activate the bell button to get nofitied when a new video comes out... and as always... Thanks for watching!!!''', \n",
    "        mp3FileName\n",
    "    )\n",
    "    engine.runAndWait()\n",
    "\n",
    "    return mp3FileName\n",
    "\n"
   ]
  },
  {
   "cell_type": "code",
   "execution_count": null,
   "id": "82d936e6",
   "metadata": {},
   "outputs": [],
   "source": [
    "# 1) pip install SpeechRecognition\n",
    "# 2) Since we're using a windows 10 machine with Python 3.8\n",
    "# 2.1) pip install pipwin\n",
    "# 2.2) pipwin install PyAudio\n",
    "\n",
    "# 3) import and initialize engine\n",
    "import speech_recognition as sr\n",
    "engine = sr.Recognizer()\n",
    "\n",
    "# 4) read mp3 file\n",
    "mp3FileName = generateMP3()\n",
    "with sr.AudioFile(mp3FileName) as source:\n",
    "    print('File is being analised...')\n",
    "    audio = engine.record(source)\n",
    "\n",
    "# 5) Extract and print text\n",
    "try:\n",
    "    text = engine.recognize_google(audio)\n",
    "    print(f'Text: {text}')\n",
    "    txtFile = open('textFromMp3.txt', 'a')\n",
    "    txtFile.writelines(text)\n",
    "except:\n",
    "    print('Something gone very wrong...')"
   ]
  }
 ],
 "metadata": {
  "kernelspec": {
   "display_name": "Python 3 (ipykernel)",
   "language": "python",
   "name": "python3"
  },
  "language_info": {
   "codemirror_mode": {
    "name": "ipython",
    "version": 3
   },
   "file_extension": ".py",
   "mimetype": "text/x-python",
   "name": "python",
   "nbconvert_exporter": "python",
   "pygments_lexer": "ipython3",
   "version": "3.11.0"
  }
 },
 "nbformat": 4,
 "nbformat_minor": 5
}
