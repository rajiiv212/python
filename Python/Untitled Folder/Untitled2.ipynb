{
 "cells": [
  {
   "cell_type": "code",
   "execution_count": 1,
   "id": "4f12401f",
   "metadata": {},
   "outputs": [
    {
     "ename": "ModuleNotFoundError",
     "evalue": "No module named 'torch'",
     "output_type": "error",
     "traceback": [
      "\u001b[1;31m---------------------------------------------------------------------------\u001b[0m",
      "\u001b[1;31mModuleNotFoundError\u001b[0m                       Traceback (most recent call last)",
      "Cell \u001b[1;32mIn [1], line 4\u001b[0m\n\u001b[0;32m      2\u001b[0m \u001b[38;5;28;01mimport\u001b[39;00m \u001b[38;5;21;01mre\u001b[39;00m\n\u001b[0;32m      3\u001b[0m \u001b[38;5;28;01mimport\u001b[39;00m \u001b[38;5;21;01msys\u001b[39;00m\n\u001b[1;32m----> 4\u001b[0m \u001b[38;5;28;01mimport\u001b[39;00m \u001b[38;5;21;01mtorch\u001b[39;00m\n\u001b[0;32m      5\u001b[0m \u001b[38;5;28;01mimport\u001b[39;00m \u001b[38;5;21;01mwhisper\u001b[39;00m\n",
      "\u001b[1;31mModuleNotFoundError\u001b[0m: No module named 'torch'"
     ]
    }
   ],
   "source": [
    "import getopt\n",
    "import re\n",
    "import sys\n",
    "import torch\n",
    "import whisper\n"
   ]
  },
  {
   "cell_type": "code",
   "execution_count": null,
   "id": "2eda49e3",
   "metadata": {},
   "outputs": [],
   "source": [
    "\n",
    "from googletrans import Translator\n",
    "import youtube_dl\n",
    "\n",
    "\n",
    "AUDIOFILE = \"smooth-ac-guitar-loop-93bpm-137706.mp3\"  \n"
   ]
  },
  {
   "cell_type": "code",
   "execution_count": null,
   "id": "a980d57b",
   "metadata": {},
   "outputs": [],
   "source": [
    "\n",
    "def match_pattern(pattern, arg):\n",
    "    \"\"\"Convert it to normal video URL if YouTube shorts URL is given.\"\"\"\n",
    "    match = re.search(pattern, arg)\n",
    "    if bool(match):\n",
    "        url = re.sub(pattern, \"watch?v=\", arg)\n",
    "    else:\n",
    "        url = arg\n",
    "    return url\n",
    "\n"
   ]
  },
  {
   "cell_type": "code",
   "execution_count": null,
   "id": "be16fc29",
   "metadata": {},
   "outputs": [],
   "source": [
    "\n",
    "def get_audio():\n",
    "    \"\"\"\n",
    "    Download mp3 audio of a YouTube video. Credit to Stokry.\n",
    "    https://dev.to/stokry/download-youtube-video-to-mp3-with-python-26p\n",
    "    \"\"\"\n",
    "    url = None\n",
    "    argv = sys.argv[1:]\n",
    "    try:\n",
    "        opts, args = getopt.getopt(argv, \"u:\", [\"url=\"])\n",
    "    except:\n",
    "        print(\"Usage: python3 transcriber.py -u <url>\")\n",
    "    for opt, arg in opts:\n",
    "        if opt in ['-u', '--url']:\n",
    "            url = match_pattern(\"shorts/\", arg)\n",
    "    video_info = youtube_dl.YoutubeDL().extract_info(url=url, download=False)\n",
    "    options = {\n",
    "        'format': 'bestaudio/best',\n",
    "        'keepvideo': False,\n",
    "        'outtmpl': AUDIOFILE,\n",
    "    }\n",
    "    with youtube_dl.YoutubeDL(options) as ydl:\n",
    "        ydl.download([video_info['webpage_url']])\n",
    "\n"
   ]
  },
  {
   "cell_type": "code",
   "execution_count": null,
   "id": "b5209867",
   "metadata": {},
   "outputs": [],
   "source": [
    "\n",
    "def banner(text):\n",
    "    \"\"\"Display a message when the script is working in the background\"\"\"\n",
    "    print(f\"# {text} #\")\n",
    "\n",
    "\n",
    "def check_device():\n",
    "    \"\"\"Check CUDA availability.\"\"\"\n",
    "    if torch.cuda.is_available() == 1:\n",
    "        device = \"cuda\"\n",
    "    else:\n",
    "        device = \"cpu\"\n",
    "    return device\n",
    "\n"
   ]
  },
  {
   "cell_type": "code",
   "execution_count": null,
   "id": "bab0b79a",
   "metadata": {},
   "outputs": [],
   "source": []
  },
  {
   "cell_type": "code",
   "execution_count": null,
   "id": "c4264f74",
   "metadata": {},
   "outputs": [],
   "source": [
    "\n",
    "def get_result():\n",
    "    \"\"\"Get speech recognition model.\"\"\"\n",
    "    model_name = input(\"Select speech recognition model name (tiny, base, small, medium, large): \")\n",
    "    banner(\"Transcribing text\")\n",
    "    model = whisper.load_model(model_name, device=check_device())\n",
    "    result = model.transcribe(AUDIOFILE)\n",
    "    format_result('transcription.txt', result[\"text\"])\n"
   ]
  },
  {
   "cell_type": "code",
   "execution_count": null,
   "id": "6a33470d",
   "metadata": {},
   "outputs": [],
   "source": [
    "\n",
    "\n",
    "def format_result(file_name, text):\n",
    "    \"\"\"Put a newline character after each sentence and prompt user for translation.\"\"\"\n",
    "    format_text = re.sub('\\.', '.\\n', text)\n",
    "    with open(file_name, 'a', encoding=\"utf-8\") as file:\n",
    "        banner(\"Writing transcription to text file\")\n",
    "        file.write(format_text)\n",
    "        choice = input(\"Do you want to translate audio transcription to English? (Yes/No) \")\n",
    "    if choice == \"Yes\":\n",
    "        translate_result('transcription.txt', 'translation.txt')\n"
   ]
  },
  {
   "cell_type": "code",
   "execution_count": null,
   "id": "a7331753",
   "metadata": {},
   "outputs": [],
   "source": [
    "\n",
    "\n",
    "def translate_result(org_file, trans_file):\n",
    "    \"\"\"\n",
    "    Translate transcribed text. Credit to Harsh Jain at educative.io\n",
    "    https://www.educative.io/answers/how-do-you-translate-text-using-python\n",
    "    \"\"\"\n",
    "    translator = Translator()  # Create an instance of Translator() class\n",
    "    with open(org_file, 'r', encoding=\"utf-8\") as transcription:\n",
    "        contents = transcription.read()\n",
    "        banner(\"Translating text\")\n",
    "        translation = translator.translate(contents)\n",
    "    with open(trans_file, 'a', encoding=\"utf-8\") as file:\n",
    "        banner(\"Writing translation to text file\")\n",
    "        file.write(translation.text)\n"
   ]
  },
  {
   "cell_type": "code",
   "execution_count": null,
   "id": "eddb881e",
   "metadata": {},
   "outputs": [],
   "source": [
    "\n",
    "\n",
    "def main():\n",
    "    \"\"\"Main function.\"\"\"\n",
    "    get_audio()  # Download an mp3 audio file to transcribe to text\n",
    "    get_result()  # Get audio transcription and translation if needed\n",
    "\n",
    "\n",
    "if __name__ == \"__main__\":\n",
    "    main()"
   ]
  }
 ],
 "metadata": {
  "kernelspec": {
   "display_name": "Python 3 (ipykernel)",
   "language": "python",
   "name": "python3"
  },
  "language_info": {
   "codemirror_mode": {
    "name": "ipython",
    "version": 3
   },
   "file_extension": ".py",
   "mimetype": "text/x-python",
   "name": "python",
   "nbconvert_exporter": "python",
   "pygments_lexer": "ipython3",
   "version": "3.11.0"
  }
 },
 "nbformat": 4,
 "nbformat_minor": 5
}
